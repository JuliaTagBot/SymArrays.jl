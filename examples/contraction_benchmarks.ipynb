{
 "cells": [
  {
   "cell_type": "code",
   "execution_count": 1,
   "metadata": {
    "ExecuteTime": {
     "end_time": "2019-12-02T19:19:52.717000+01:00",
     "start_time": "2019-12-02T18:19:51.004Z"
    }
   },
   "outputs": [
    {
     "name": "stdout",
     "output_type": "stream",
     "text": [
      "\u001b[32m\u001b[1mActivating\u001b[22m\u001b[39m environment at `~/.julia/dev/SymArrays/Project.toml`\n"
     ]
    }
   ],
   "source": [
    "using Pkg\n",
    "Pkg.activate(\"..\")"
   ]
  },
  {
   "cell_type": "code",
   "execution_count": 2,
   "metadata": {
    "ExecuteTime": {
     "end_time": "2019-12-02T19:19:53.512000+01:00",
     "start_time": "2019-12-02T18:19:51.007Z"
    }
   },
   "outputs": [],
   "source": [
    "using SymArrays\n",
    "using BenchmarkTools\n",
    "using TensorOperations\n",
    "using Random"
   ]
  },
  {
   "cell_type": "code",
   "execution_count": 3,
   "metadata": {
    "ExecuteTime": {
     "end_time": "2019-12-02T19:20:01.304000+01:00",
     "start_time": "2019-12-02T18:19:51.009Z"
    }
   },
   "outputs": [],
   "source": [
    "N = 300\n",
    "A = rand(N)\n",
    "S = SymArray{(3,),Float64}(N,N,N);\n",
    "S.data .= 1:length(S)\n",
    "B = collect(S)\n",
    "C1 = SymArray{(2,),Float64}(N,N)\n",
    "C2 = deepcopy(C1)\n",
    "@tensor C3[j,k] := A[i]*B[i,j,k]\n",
    "contract!(C1,A,S,Val(1),Val(1))\n",
    "# this is the \"hand-written\" version where A has to be 1D\n",
    "contract!(C2,A,S,Val(1))\n",
    "@assert C1 ≈ C2\n",
    "@assert C1 ≈ C3"
   ]
  },
  {
   "cell_type": "code",
   "execution_count": 4,
   "metadata": {
    "ExecuteTime": {
     "end_time": "2019-12-02T19:20:38.472000+01:00",
     "start_time": "2019-12-02T18:19:51.010Z"
    }
   },
   "outputs": [
    {
     "name": "stdout",
     "output_type": "stream",
     "text": [
      "  25.255 ms (0 allocations: 0 bytes)\n",
      "  19.806 ms (6 allocations: 368 bytes)\n",
      "  20.694 ms (0 allocations: 0 bytes)\n"
     ]
    }
   ],
   "source": [
    "@btime @tensor C3[j,k] = A[i]*B[i,j,k]\n",
    "@btime contract!(C1,A,S,Val(1),Val(1))\n",
    "@btime contract!(C1,A,S,Val(1));"
   ]
  },
  {
   "cell_type": "code",
   "execution_count": 5,
   "metadata": {
    "ExecuteTime": {
     "end_time": "2019-12-02T19:20:38.952000+01:00",
     "start_time": "2019-12-02T18:19:51.012Z"
    }
   },
   "outputs": [],
   "source": [
    "N, M = 30, 40\n",
    "A = rand(N)\n",
    "S = SymArray{(2,1),Float64}(N,N,M);\n",
    "S.data .= 1:length(S)\n",
    "B = collect(S)\n",
    "C1 = SymArray{(1,1),Float64}(N,M)\n",
    "C2 = collect(C1)\n",
    "@tensor C3[j,k] := A[i]*B[i,j,k]\n",
    "contract!(C1,A,S,Val(1),Val(1))\n",
    "# this is the \"hand-written\" version where A has to be 1D\n",
    "contract!(C2,A,S,Val(1))\n",
    "@assert C1 ≈ C2\n",
    "@assert C1 ≈ C3"
   ]
  },
  {
   "cell_type": "code",
   "execution_count": 6,
   "metadata": {
    "ExecuteTime": {
     "end_time": "2019-12-02T19:20:56.858000+01:00",
     "start_time": "2019-12-02T18:19:51.014Z"
    }
   },
   "outputs": [
    {
     "name": "stdout",
     "output_type": "stream",
     "text": [
      "  20.031 μs (0 allocations: 0 bytes)\n",
      "  39.557 μs (6 allocations: 368 bytes)\n",
      "  29.703 μs (0 allocations: 0 bytes)\n"
     ]
    }
   ],
   "source": [
    "@btime @tensor C3[j,k] = A[i]*B[i,j,k]\n",
    "@btime contract!(C1,A,S,Val(1),Val(1))\n",
    "@btime contract!(C2,A,S,Val(1));"
   ]
  },
  {
   "cell_type": "code",
   "execution_count": 7,
   "metadata": {
    "ExecuteTime": {
     "end_time": "2019-12-02T19:20:58.846000+01:00",
     "start_time": "2019-12-02T18:19:51.015Z"
    }
   },
   "outputs": [],
   "source": [
    "N, M = 30, 40\n",
    "A = rand(M)\n",
    "S = SymArray{(2,1),Float64}(N,N,M);\n",
    "S.data .= 1:length(S)\n",
    "B = collect(S)\n",
    "C1 = SymArray{(2,),Float64}(N,N)\n",
    "C2 = deepcopy(C1)\n",
    "@tensor C3[i,j] := A[k]*B[i,j,k]\n",
    "contract!(C1,A,S,Val(1),Val(3))\n",
    "# this is the \"hand-written\" version where A has to be 1D\n",
    "contract!(C2,A,S,Val(3))\n",
    "@assert C1 ≈ C2\n",
    "@assert C1 ≈ C3"
   ]
  },
  {
   "cell_type": "code",
   "execution_count": 8,
   "metadata": {
    "ExecuteTime": {
     "end_time": "2019-12-02T19:21:19.522000+01:00",
     "start_time": "2019-12-02T18:19:51.017Z"
    }
   },
   "outputs": [
    {
     "name": "stdout",
     "output_type": "stream",
     "text": [
      "  12.686 μs (0 allocations: 0 bytes)\n",
      "  7.577 μs (8 allocations: 480 bytes)\n",
      "  2.615 μs (2 allocations: 96 bytes)\n"
     ]
    }
   ],
   "source": [
    "@btime @tensor C3[i,j] = B[i,j,k]*A[k]\n",
    "@btime contract!(C1,A,S,Val(1),Val(3))\n",
    "# this is the \"hand-written\" version where A has to be 1D\n",
    "@btime contract!(C2,A,S,Val(3));"
   ]
  },
  {
   "cell_type": "code",
   "execution_count": 9,
   "metadata": {
    "ExecuteTime": {
     "end_time": "2019-12-02T19:21:21.540000+01:00",
     "start_time": "2019-12-02T18:19:51.018Z"
    },
    "scrolled": false
   },
   "outputs": [],
   "source": [
    "N1, N2, N3 = 10, 12, 13\n",
    "A = rand(N1,N2,N3)\n",
    "S = SymArray{(3,2,1),Float64}(N1,N1,N1,N2,N2,N3)\n",
    "rand!(S.data)\n",
    "# \n",
    "C11 = SymArray{(1,1,2,2,1),Float64}(N2,N3,N1,N1,N2,N2,N3)\n",
    "C12 = deepcopy(C11)\n",
    "C13 = deepcopy(C11)\n",
    "contract!(C11,A,S,Val(1),Val(1))\n",
    "contract!(C12,A,S,Val(1),Val(2))\n",
    "contract!(C13,A,S,Val(1),Val(3))\n",
    "@assert C11 == C12\n",
    "@assert C11 == C13\n",
    "C24 = SymArray{(1,1,3,1,1),Float64}(N1,N3,N1,N1,N1,N2,N3)\n",
    "contract!(C24,A,S,Val(2),Val(4))\n",
    "C25 = SymArray{(1,1,3,1,1),Float64}(N1,N3,N1,N1,N1,N2,N3)\n",
    "contract!(C25,A,S,Val(2),Val(5))\n",
    "@assert C24 == C25\n",
    "\n",
    "C36 = SymArray{(1,1,3,2),Float64}(N1,N2,N1,N1,N1,N2,N2)\n",
    "contract!(C36,A,S,Val(3),Val(6));"
   ]
  },
  {
   "cell_type": "code",
   "execution_count": 10,
   "metadata": {
    "ExecuteTime": {
     "end_time": "2019-12-02T19:21:28.282000+01:00",
     "start_time": "2019-12-02T18:19:51.019Z"
    }
   },
   "outputs": [],
   "source": [
    "contract!(C24,A,S,Val(2),Val(4));\n",
    "B = collect(S)\n",
    "@tensor C24_AB[i,k,l,m,n,o,p] := A[i,j,k] * B[l,m,n,j,o,p]\n",
    "@assert C24 ≈ C24_AB"
   ]
  },
  {
   "cell_type": "code",
   "execution_count": 11,
   "metadata": {
    "ExecuteTime": {
     "end_time": "2019-12-02T19:21:29.015000+01:00",
     "start_time": "2019-12-02T18:19:51.020Z"
    }
   },
   "outputs": [],
   "source": [
    "contract!(C36,A,S,Val(3),Val(6));\n",
    "B = collect(S)\n",
    "@tensor C36_AB[i,j,l,m,n,o,p] := A[i,j,k] * B[l,m,n,o,p,k]\n",
    "@assert C36 ≈ C36_AB"
   ]
  },
  {
   "cell_type": "code",
   "execution_count": 12,
   "metadata": {
    "ExecuteTime": {
     "end_time": "2019-12-02T19:21:53.871000+01:00",
     "start_time": "2019-12-02T18:19:51.021Z"
    }
   },
   "outputs": [
    {
     "name": "stdout",
     "output_type": "stream",
     "text": [
      "  48.521 ms (6 allocations: 368 bytes)\n",
      "  44.082 ms (2 allocations: 128 bytes)\n"
     ]
    }
   ],
   "source": [
    "@tensor C11_AB[j,k,l,m,n,o,p] := A[i,j,k] * B[i,l,m,n,o,p]\n",
    "@btime contract!(C11,A,S,Val(1),Val(1))\n",
    "@assert C11 ≈ C11_AB\n",
    "@btime @tensor C11_AB[j,k,l,m,n,o,p] = A[i,j,k] * B[i,l,m,n,o,p];"
   ]
  },
  {
   "cell_type": "code",
   "execution_count": 13,
   "metadata": {
    "ExecuteTime": {
     "end_time": "2019-12-02T19:22:16.112000+01:00",
     "start_time": "2019-12-02T18:19:51.023Z"
    }
   },
   "outputs": [
    {
     "name": "stdout",
     "output_type": "stream",
     "text": [
      "  2.368 ms (8 allocations: 480 bytes)\n",
      "  25.626 ms (2 allocations: 128 bytes)\n"
     ]
    }
   ],
   "source": [
    "@btime contract!(C36,A,S,Val(3),Val(6));\n",
    "@btime @tensor C36_AB[i,j,l,m,n,o,p] = A[i,j,k] * B[l,m,n,o,p,k];\n",
    "@assert C36 ≈ C36_AB"
   ]
  },
  {
   "cell_type": "code",
   "execution_count": 14,
   "metadata": {
    "ExecuteTime": {
     "end_time": "2019-12-02T19:24:04.130000+01:00",
     "start_time": "2019-12-02T18:19:51.025Z"
    }
   },
   "outputs": [
    {
     "name": "stdout",
     "output_type": "stream",
     "text": [
      "2 10 16\n",
      "  165.095 ns (6 allocations: 368 bytes)\n",
      "  284.855 ns (0 allocations: 0 bytes)\n",
      "4 35 256\n",
      "  634.266 ns (6 allocations: 368 bytes)\n",
      "  1.758 μs (21 allocations: 1.11 KiB)\n",
      "6 84 4096\n",
      "  2.741 μs (6 allocations: 368 bytes)\n",
      "  9.559 μs (19 allocations: 1.33 KiB)\n",
      "8 165 65536\n",
      "  10.416 μs (6 allocations: 368 bytes)\n",
      "  129.225 μs (21 allocations: 1.67 KiB)\n",
      "10 286 1048576\n",
      "  31.490 μs (6 allocations: 368 bytes)\n",
      "  2.504 ms (73 allocations: 4.14 KiB)\n",
      "12 455 16777216\n",
      "  81.130 μs (6 allocations: 368 bytes)\n",
      "  35.819 ms (97 allocations: 6.63 KiB)\n"
     ]
    }
   ],
   "source": [
    "@generated function benchtensor(res_B, A, B::Array{T,Ndim},::Val{mm}) where {T,Ndim,mm}\n",
    "    inds_B = Symbol.(:i,1:Ndim)\n",
    "    inds_B[mm] = :j\n",
    "    inds_res = (:i,inds_B[1:Ndim .!= mm]...)\n",
    "    :( @tensor res_B[$(inds_res...)] = A[i,j]*B[$(inds_B...)] )\n",
    "end\n",
    "\n",
    "NN = 4\n",
    "maxNdim = 12\n",
    "for Ndim = 2:2:maxNdim\n",
    "    S = SymArray{(Ndim,),Float64}(ntuple(i->NN,Ndim)...)\n",
    "    rand!(S.data)\n",
    "    println(Ndim,\" \",length(S),\" \",prod(size(S)))\n",
    "    B = collect(S)\n",
    "\n",
    "    A = rand(NN,NN)\n",
    "    res = SymArray{(1,Ndim-1),Float64}(size(S)...)\n",
    "    res_B = Array{Float64,Ndim}(undef,size(res))\n",
    "\n",
    "    mm = Val(Ndim÷2)\n",
    "    @btime contract!($res,$A,$S,Val(2),$mm)\n",
    "    @btime benchtensor($res_B, $A, $B, $mm)\n",
    "    \n",
    "    @assert res ≈ res_B\n",
    "end"
   ]
  }
 ],
 "metadata": {
  "@webio": {
   "lastCommId": null,
   "lastKernelId": null
  },
  "hide_input": false,
  "kernelspec": {
   "display_name": "Julia 1.3.0",
   "language": "julia",
   "name": "julia-1.3"
  },
  "language_info": {
   "file_extension": ".jl",
   "mimetype": "application/julia",
   "name": "julia",
   "version": "1.3.0"
  },
  "toc": {
   "base_numbering": 1,
   "nav_menu": {},
   "number_sections": true,
   "sideBar": true,
   "skip_h1_title": false,
   "title_cell": "Table of Contents",
   "title_sidebar": "Contents",
   "toc_cell": false,
   "toc_position": {},
   "toc_section_display": true,
   "toc_window_display": false
  },
  "varInspector": {
   "cols": {
    "lenName": 16,
    "lenType": 16,
    "lenVar": 40
   },
   "kernels_config": {
    "python": {
     "delete_cmd_postfix": "",
     "delete_cmd_prefix": "del ",
     "library": "var_list.py",
     "varRefreshCmd": "print(var_dic_list())"
    },
    "r": {
     "delete_cmd_postfix": ") ",
     "delete_cmd_prefix": "rm(",
     "library": "var_list.r",
     "varRefreshCmd": "cat(var_dic_list()) "
    }
   },
   "types_to_exclude": [
    "module",
    "function",
    "builtin_function_or_method",
    "instance",
    "_Feature"
   ],
   "window_display": false
  }
 },
 "nbformat": 4,
 "nbformat_minor": 2
}
