{
 "cells": [
  {
   "cell_type": "code",
   "execution_count": 1,
   "metadata": {
    "ExecuteTime": {
     "end_time": "2019-12-04T15:40:54.921000+01:00",
     "start_time": "2019-12-04T14:40:53.150Z"
    }
   },
   "outputs": [
    {
     "name": "stdout",
     "output_type": "stream",
     "text": [
      "\u001b[32m\u001b[1mActivating\u001b[22m\u001b[39m environment at `~/.julia/dev/SymArrays/Project.toml`\n"
     ]
    }
   ],
   "source": [
    "using Pkg\n",
    "Pkg.activate(\"..\")"
   ]
  },
  {
   "cell_type": "code",
   "execution_count": 2,
   "metadata": {
    "ExecuteTime": {
     "end_time": "2019-12-04T15:40:55.784000+01:00",
     "start_time": "2019-12-04T14:40:53.151Z"
    }
   },
   "outputs": [],
   "source": [
    "using SymArrays\n",
    "using BenchmarkTools\n",
    "using TensorOperations\n",
    "using Random"
   ]
  },
  {
   "cell_type": "code",
   "execution_count": 3,
   "metadata": {
    "ExecuteTime": {
     "end_time": "2019-12-04T15:41:04.204000+01:00",
     "start_time": "2019-12-04T14:40:53.153Z"
    }
   },
   "outputs": [],
   "source": [
    "N = 300\n",
    "A = rand(N)\n",
    "S = SymArray{(3,),Float64}(N,N,N);\n",
    "S.data .= 1:length(S)\n",
    "B = collect(S)\n",
    "C1 = SymArray{(2,),Float64}(N,N)\n",
    "C2 = deepcopy(C1)\n",
    "@tensor C3[j,k] := A[i]*B[i,j,k]\n",
    "contract!(C1,A,S,Val(1),Val(1))\n",
    "# this is the \"hand-written\" version where A has to be 1D\n",
    "contract!(C2,A,S,Val(1))\n",
    "@assert C1 ≈ C2\n",
    "@assert C1 ≈ C3"
   ]
  },
  {
   "cell_type": "code",
   "execution_count": 4,
   "metadata": {
    "ExecuteTime": {
     "end_time": "2019-12-04T15:41:41.717000+01:00",
     "start_time": "2019-12-04T14:40:53.154Z"
    }
   },
   "outputs": [
    {
     "name": "stdout",
     "output_type": "stream",
     "text": [
      "  26.610 ms (0 allocations: 0 bytes)\n",
      "  20.313 ms (6 allocations: 368 bytes)\n",
      "  21.078 ms (0 allocations: 0 bytes)\n"
     ]
    }
   ],
   "source": [
    "@btime @tensor C3[j,k] = A[i]*B[i,j,k]\n",
    "@btime contract!(C1,A,S,Val(1),Val(1))\n",
    "@btime contract!(C1,A,S,Val(1));"
   ]
  },
  {
   "cell_type": "code",
   "execution_count": 5,
   "metadata": {
    "ExecuteTime": {
     "end_time": "2019-12-04T15:41:42.271000+01:00",
     "start_time": "2019-12-04T14:40:53.155Z"
    }
   },
   "outputs": [],
   "source": [
    "N, M = 30, 40\n",
    "A = rand(N)\n",
    "S = SymArray{(2,1),Float64}(N,N,M)\n",
    "S.data[:] .= 1:length(S)\n",
    "B = collect(S)\n",
    "C1 = SymArray{(1,1),Float64}(N,M)\n",
    "C2 = collect(C1)\n",
    "@tensor C3[j,k] := A[i]*B[i,j,k]\n",
    "contract!(C1,A,S,Val(1),Val(1))\n",
    "# this is the \"hand-written\" version where A has to be 1D\n",
    "contract!(C2,A,S,Val(1))\n",
    "@assert C1 ≈ C2\n",
    "@assert C1 ≈ C3"
   ]
  },
  {
   "cell_type": "code",
   "execution_count": 6,
   "metadata": {
    "ExecuteTime": {
     "end_time": "2019-12-04T15:42:00.269000+01:00",
     "start_time": "2019-12-04T14:40:53.157Z"
    }
   },
   "outputs": [
    {
     "name": "stdout",
     "output_type": "stream",
     "text": [
      "  20.048 μs (0 allocations: 0 bytes)\n",
      "  39.314 μs (6 allocations: 368 bytes)\n",
      "  29.787 μs (0 allocations: 0 bytes)\n"
     ]
    }
   ],
   "source": [
    "@btime @tensor C3[j,k] = A[i]*B[i,j,k]\n",
    "@btime contract!(C1,A,S,Val(1),Val(1))\n",
    "@btime contract!(C2,A,S,Val(1));"
   ]
  },
  {
   "cell_type": "code",
   "execution_count": 7,
   "metadata": {
    "ExecuteTime": {
     "end_time": "2019-12-04T15:42:02.312000+01:00",
     "start_time": "2019-12-04T14:40:53.158Z"
    }
   },
   "outputs": [],
   "source": [
    "N, M = 30, 40\n",
    "A = rand(M)\n",
    "S = SymArray{(2,1),Float64}(N,N,M);\n",
    "S.data[:] .= 1:length(S)\n",
    "B = collect(S)\n",
    "C1 = SymArray{(2,),Float64}(N,N)\n",
    "C2 = deepcopy(C1)\n",
    "@tensor C3[i,j] := A[k]*B[i,j,k]\n",
    "contract!(C1,A,S,Val(1),Val(3))\n",
    "# this is the \"hand-written\" version where A has to be 1D\n",
    "contract!(C2,A,S,Val(3))\n",
    "@assert C1 ≈ C2\n",
    "@assert C1 ≈ C3"
   ]
  },
  {
   "cell_type": "code",
   "execution_count": 8,
   "metadata": {
    "ExecuteTime": {
     "end_time": "2019-12-04T15:42:23.600000+01:00",
     "start_time": "2019-12-04T14:40:53.160Z"
    }
   },
   "outputs": [
    {
     "name": "stdout",
     "output_type": "stream",
     "text": [
      "  13.369 μs (0 allocations: 0 bytes)\n",
      "  7.777 μs (8 allocations: 480 bytes)\n",
      "  2.581 μs (0 allocations: 0 bytes)\n"
     ]
    }
   ],
   "source": [
    "@btime @tensor C3[i,j] = B[i,j,k]*A[k]\n",
    "@btime contract!(C1,A,S,Val(1),Val(3))\n",
    "# this is the \"hand-written\" version where A has to be 1D\n",
    "@btime contract!(C2,A,S,Val(3));"
   ]
  },
  {
   "cell_type": "code",
   "execution_count": 9,
   "metadata": {
    "ExecuteTime": {
     "end_time": "2019-12-04T15:42:25.434000+01:00",
     "start_time": "2019-12-04T14:40:53.161Z"
    },
    "scrolled": false
   },
   "outputs": [],
   "source": [
    "N1, N2, N3 = 10, 12, 13\n",
    "A = rand(N1,N2,N3)\n",
    "S = SymArray{(3,2,1),Float64}(N1,N1,N1,N2,N2,N3)\n",
    "rand!(S.data)\n",
    "# \n",
    "C11 = SymArray{(1,1,2,2,1),Float64}(N2,N3,N1,N1,N2,N2,N3)\n",
    "C12 = deepcopy(C11)\n",
    "C13 = deepcopy(C11)\n",
    "contract!(C11,A,S,Val(1),Val(1))\n",
    "contract!(C12,A,S,Val(1),Val(2))\n",
    "contract!(C13,A,S,Val(1),Val(3))\n",
    "@assert C11 == C12\n",
    "@assert C11 == C13\n",
    "C24 = SymArray{(1,1,3,1,1),Float64}(N1,N3,N1,N1,N1,N2,N3)\n",
    "contract!(C24,A,S,Val(2),Val(4))\n",
    "C25 = SymArray{(1,1,3,1,1),Float64}(N1,N3,N1,N1,N1,N2,N3)\n",
    "contract!(C25,A,S,Val(2),Val(5))\n",
    "@assert C24 == C25\n",
    "\n",
    "C36 = SymArray{(1,1,3,2),Float64}(N1,N2,N1,N1,N1,N2,N2)\n",
    "contract!(C36,A,S,Val(3),Val(6));"
   ]
  },
  {
   "cell_type": "code",
   "execution_count": 10,
   "metadata": {
    "ExecuteTime": {
     "end_time": "2019-12-04T15:42:32.085000+01:00",
     "start_time": "2019-12-04T14:40:53.162Z"
    }
   },
   "outputs": [],
   "source": [
    "contract!(C24,A,S,Val(2),Val(4));\n",
    "B = collect(S)\n",
    "@tensor C24_AB[i,k,l,m,n,o,p] := A[i,j,k] * B[l,m,n,j,o,p]\n",
    "@assert C24 ≈ C24_AB"
   ]
  },
  {
   "cell_type": "code",
   "execution_count": 11,
   "metadata": {
    "ExecuteTime": {
     "end_time": "2019-12-04T15:42:32.971000+01:00",
     "start_time": "2019-12-04T14:40:53.163Z"
    }
   },
   "outputs": [],
   "source": [
    "contract!(C36,A,S,Val(3),Val(6));\n",
    "B = collect(S)\n",
    "@tensor C36_AB[i,j,l,m,n,o,p] := A[i,j,k] * B[l,m,n,o,p,k]\n",
    "@assert C36 ≈ C36_AB"
   ]
  },
  {
   "cell_type": "code",
   "execution_count": 12,
   "metadata": {
    "ExecuteTime": {
     "end_time": "2019-12-04T15:42:57.757000+01:00",
     "start_time": "2019-12-04T14:40:53.164Z"
    }
   },
   "outputs": [
    {
     "name": "stdout",
     "output_type": "stream",
     "text": [
      "  49.896 ms (6 allocations: 368 bytes)\n",
      "  46.439 ms (2 allocations: 128 bytes)\n"
     ]
    }
   ],
   "source": [
    "@tensor C11_AB[j,k,l,m,n,o,p] := A[i,j,k] * B[i,l,m,n,o,p]\n",
    "@btime contract!(C11,A,S,Val(1),Val(1))\n",
    "@assert C11 ≈ C11_AB\n",
    "@btime @tensor C11_AB[j,k,l,m,n,o,p] = A[i,j,k] * B[i,l,m,n,o,p];"
   ]
  },
  {
   "cell_type": "code",
   "execution_count": 13,
   "metadata": {
    "ExecuteTime": {
     "end_time": "2019-12-04T15:43:20.150000+01:00",
     "start_time": "2019-12-04T14:40:53.165Z"
    }
   },
   "outputs": [
    {
     "name": "stdout",
     "output_type": "stream",
     "text": [
      "  2.394 ms (8 allocations: 480 bytes)\n",
      "  26.830 ms (2 allocations: 128 bytes)\n"
     ]
    }
   ],
   "source": [
    "@btime contract!(C36,A,S,Val(3),Val(6));\n",
    "@btime @tensor C36_AB[i,j,l,m,n,o,p] = A[i,j,k] * B[l,m,n,o,p,k];\n",
    "@assert C36 ≈ C36_AB"
   ]
  },
  {
   "cell_type": "code",
   "execution_count": 14,
   "metadata": {
    "ExecuteTime": {
     "end_time": "2019-12-04T15:45:08.964000+01:00",
     "start_time": "2019-12-04T14:40:53.166Z"
    }
   },
   "outputs": [
    {
     "name": "stdout",
     "output_type": "stream",
     "text": [
      "2 10 16\n",
      "  164.852 ns (6 allocations: 368 bytes)\n",
      "  295.466 ns (0 allocations: 0 bytes)\n",
      "4 35 256\n",
      "  629.788 ns (6 allocations: 368 bytes)\n",
      "  1.725 μs (21 allocations: 1.11 KiB)\n",
      "6 84 4096\n",
      "  2.740 μs (6 allocations: 368 bytes)\n",
      "  9.442 μs (19 allocations: 1.33 KiB)\n",
      "8 165 65536\n",
      "  10.536 μs (6 allocations: 368 bytes)\n",
      "  129.827 μs (21 allocations: 1.67 KiB)\n",
      "10 286 1048576\n",
      "  31.668 μs (6 allocations: 368 bytes)\n",
      "  2.439 ms (73 allocations: 4.14 KiB)\n",
      "12 455 16777216\n",
      "  81.875 μs (6 allocations: 368 bytes)\n",
      "  35.927 ms (97 allocations: 6.63 KiB)\n"
     ]
    }
   ],
   "source": [
    "@generated function benchtensor(res_B, A, B::Array{T,Ndim},::Val{mm}) where {T,Ndim,mm}\n",
    "    inds_B = Symbol.(:i,1:Ndim)\n",
    "    inds_B[mm] = :j\n",
    "    inds_res = (:i,inds_B[1:Ndim .!= mm]...)\n",
    "    :( @tensor res_B[$(inds_res...)] = A[i,j]*B[$(inds_B...)] )\n",
    "end\n",
    "\n",
    "NN = 4\n",
    "maxNdim = 12\n",
    "for Ndim = 2:2:maxNdim\n",
    "    S = SymArray{(Ndim,),Float64}(ntuple(i->NN,Ndim)...)\n",
    "    rand!(S.data)\n",
    "    println(Ndim,\" \",length(S),\" \",prod(size(S)))\n",
    "    B = collect(S)\n",
    "\n",
    "    A = rand(NN,NN)\n",
    "    res = SymArray{(1,Ndim-1),Float64}(size(S)...)\n",
    "    res_B = Array{Float64,Ndim}(undef,size(res))\n",
    "\n",
    "    mm = Val(Ndim÷2)\n",
    "    @btime contract!($res,$A,$S,Val(2),$mm)\n",
    "    @btime benchtensor($res_B, $A, $B, $mm)\n",
    "    \n",
    "    @assert res ≈ res_B\n",
    "end"
   ]
  }
 ],
 "metadata": {
  "@webio": {
   "lastCommId": null,
   "lastKernelId": null
  },
  "hide_input": false,
  "kernelspec": {
   "display_name": "Julia 1.3.0",
   "language": "julia",
   "name": "julia-1.3"
  },
  "language_info": {
   "file_extension": ".jl",
   "mimetype": "application/julia",
   "name": "julia",
   "version": "1.3.0"
  },
  "toc": {
   "base_numbering": 1,
   "nav_menu": {},
   "number_sections": true,
   "sideBar": true,
   "skip_h1_title": false,
   "title_cell": "Table of Contents",
   "title_sidebar": "Contents",
   "toc_cell": false,
   "toc_position": {},
   "toc_section_display": true,
   "toc_window_display": false
  },
  "varInspector": {
   "cols": {
    "lenName": 16,
    "lenType": 16,
    "lenVar": 40
   },
   "kernels_config": {
    "python": {
     "delete_cmd_postfix": "",
     "delete_cmd_prefix": "del ",
     "library": "var_list.py",
     "varRefreshCmd": "print(var_dic_list())"
    },
    "r": {
     "delete_cmd_postfix": ") ",
     "delete_cmd_prefix": "rm(",
     "library": "var_list.r",
     "varRefreshCmd": "cat(var_dic_list()) "
    }
   },
   "types_to_exclude": [
    "module",
    "function",
    "builtin_function_or_method",
    "instance",
    "_Feature"
   ],
   "window_display": false
  }
 },
 "nbformat": 4,
 "nbformat_minor": 2
}
